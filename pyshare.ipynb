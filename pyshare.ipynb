{
 "cells": [
  {
   "cell_type": "markdown",
   "metadata": {
    "slideshow": {
     "slide_type": "slide"
    }
   },
   "source": [
    "# Python 学习分享"
   ]
  },
  {
   "cell_type": "markdown",
   "metadata": {
    "slideshow": {
     "slide_type": "slide"
    }
   },
   "source": [
    "## 新手与专家的区别 "
   ]
  },
  {
   "cell_type": "markdown",
   "metadata": {
    "slideshow": {
     "slide_type": "fragment"
    }
   },
   "source": [
    "## 德雷福斯模型\n",
    "\n",
    "| 阶段  |  特征   \n",
    "|-------|-------- \n",
    "| 新手| Novices need recipes\n",
    "|高级新手|Advanced beginners don't want the big picture\n",
    "|胜任者|Competents can troubleshoot\n",
    "|精通者|Proficient practitioners can self-correct\n",
    "|专家|Experts work from intuition"
   ]
  },
  {
   "cell_type": "markdown",
   "metadata": {
    "slideshow": {
     "slide_type": "subslide"
    }
   },
   "source": [
    "专家的直觉和模式匹配能力超越了他的显性知识。"
   ]
  },
  {
   "cell_type": "markdown",
   "metadata": {
    "slideshow": {
     "slide_type": "fragment"
    }
   },
   "source": [
    "> 真正想要了解一只青蛙，传统的解剖不是办法，更好的方式是构造一只青蛙。"
   ]
  },
  {
   "cell_type": "markdown",
   "metadata": {
    "slideshow": {
     "slide_type": "slide"
    }
   },
   "source": [
    "开智方法：\n",
    "\n",
    "- 建立最小测试反馈循环\n",
    "- 分解技能/问题\n",
    "- 主动探索\n"
   ]
  },
  {
   "cell_type": "markdown",
   "metadata": {
    "slideshow": {
     "slide_type": "slide"
    }
   },
   "source": [
    "## 测试环境 - 工具\n",
    "\n",
    "### Jupter notebook\n",
    "\n",
    "- [anacond 安装](https://www.continuum.io/downloads)\n",
    "- Anaconda 实际上是一个软件发行版，它附带了 conda、Python 和 150 多个科学包及其依赖项。应用程序 conda 是包和环境管理器。"
   ]
  },
  {
   "cell_type": "code",
   "execution_count": 22,
   "metadata": {
    "slideshow": {
     "slide_type": "subslide"
    }
   },
   "outputs": [
    {
     "data": {
      "text/plain": [
       "['Adam', 'Lisa', 'Bart']"
      ]
     },
     "execution_count": 22,
     "metadata": {},
     "output_type": "execute_result"
    }
   ],
   "source": [
    "# 命令自动补齐 <tab> \n",
    "L1 = ['adam', 'LISA', 'barT']\n",
    "\n",
    "# 获取帮助 shift+tab\n",
    "map(lambda s: s.capitalize(), L1)\n",
    "\n",
    "# 'h' keyboard shortcuts\n"
   ]
  },
  {
   "cell_type": "markdown",
   "metadata": {
    "slideshow": {
     "slide_type": "subslide"
    }
   },
   "source": [
    "### 工具  Cheat sheet \n",
    "\n",
    "- python cheat sheet \n",
    "- [Python For Data Science Cheat Sheet\n",
    "Python Basics](https://s3.amazonaws.com/assets.datacamp.com/blog_assets/PythonForDataScience.pdf)"
   ]
  },
  {
   "cell_type": "markdown",
   "metadata": {
    "slideshow": {
     "slide_type": "subslide"
    }
   },
   "source": [
    "## 工具 Dash\n",
    "- Dash是一个API文档浏览器（ API Documentation Browser），以及代码片段管理工具（Code Snippet Manager）\n",
    "- 例子：查询 python format string "
   ]
  },
  {
   "cell_type": "code",
   "execution_count": 11,
   "metadata": {
    "slideshow": {
     "slide_type": "subslide"
    }
   },
   "outputs": [
    {
     "name": "stdout",
     "output_type": "stream",
     "text": [
      "1, 2, 2\n"
     ]
    }
   ],
   "source": [
    "print '{value1}, {value2}, {value2}'.format(value1=1, value2=2, value3=3)"
   ]
  },
  {
   "cell_type": "markdown",
   "metadata": {
    "slideshow": {
     "slide_type": "subslide"
    }
   },
   "source": [
    "## 工具- gitbook\n",
    "\n",
    "https://github.com/GitbookIO/gitbook/blob/master/docs/setup.md\n",
    "\n",
    "- 建立本地环境"
   ]
  },
  {
   "cell_type": "markdown",
   "metadata": {
    "slideshow": {
     "slide_type": "slide"
    }
   },
   "source": [
    "## Python 核心知识点"
   ]
  },
  {
   "cell_type": "markdown",
   "metadata": {
    "slideshow": {
     "slide_type": "subslide"
    }
   },
   "source": [
    "参考 [极简 Python 上手导念](http://wiki.zoomquiet.io/pythonic/MinimalistPyStart)\n",
    "\n",
    "\n",
    "![](http://ok7pql0lh.bkt.clouddn.com/15019407886812.jpg)\n"
   ]
  },
  {
   "cell_type": "code",
   "execution_count": 21,
   "metadata": {
    "collapsed": true,
    "slideshow": {
     "slide_type": "subslide"
    }
   },
   "outputs": [
    {
     "ename": "SyntaxError",
     "evalue": "invalid syntax (<ipython-input-21-663c49281e99>, line 15)",
     "output_type": "error",
     "traceback": [
      "\u001b[0;36m  File \u001b[0;32m\"<ipython-input-21-663c49281e99>\"\u001b[0;36m, line \u001b[0;32m15\u001b[0m\n\u001b[0;31m    prinbl '这将直接执行'+os.getcwd()\u001b[0m\n\u001b[0m                              ^\u001b[0m\n\u001b[0;31mSyntaxError\u001b[0m\u001b[0;31m:\u001b[0m invalid syntax\n"
     ]
    }
   ],
   "source": [
    "# -*- coding: utf-8 -*-\n",
    "# Quick Pytohn Script Explanation for Progeammers\n",
    "# 给程序员的超快速Py脚本解说\n",
    "import os\n",
    "\n",
    "def main():\n",
    "    print 'Hello World!'\n",
    "    \n",
    "    print \"这是Alice\\'的问候.\"\n",
    "    print '这是Bob\\'的问候.'\n",
    "    \n",
    "    foo(5, 10)\n",
    "    \n",
    "    print '=' * 10\n",
    "    prinbl '这将直接执行'+os.getcwd()\n",
    "    \n",
    "    counter = 0\n",
    "    counter += 1\n",
    "    \n",
    "    food = ['苹果', '杏子', '李子', '梨']\n",
    "    for i in food:\n",
    "        print '俺就爱整只:'+i\n",
    "        \n",
    "    print '数到10'\n",
    "    for i in range(10):\n",
    "        print i\n",
    "\n",
    "def foo(param1, secondParam):\n",
    "    res = param1+secondParam\n",
    "    print '%s 加 %s 等于 %s'%(param1, secondParam, res)\n",
    "    if res < 50:\n",
    "        print '这个'\n",
    "    elif (res>=50) and ((param1==42) or (secondParam==24)):\n",
    "        print '那个'\n",
    "    else:\n",
    "        print '嗯...'\n",
    "    return res  # 这是单行注释\n",
    "    '''这是多\n",
    "行注释......'''\n",
    "\n",
    "if __name__=='__main__':\n",
    "    main()"
   ]
  },
  {
   "cell_type": "markdown",
   "metadata": {
    "slideshow": {
     "slide_type": "slide"
    }
   },
   "source": [
    "## 资源推荐\n",
    "\n",
    "- 官方文档 https://www.python.org/\n",
    "- [Intermediate Python](http://book.pythontips.com/en/latest/)\n",
    "- [Google Python Style Guide](https://google.github.io/styleguide/pyguide.html)\n",
    "- 《程序员的思维修炼》\n",
    "- [你是如何自学 Python 的？](https://www.zhihu.com/question/20702054/answer/15908321)"
   ]
  },
  {
   "cell_type": "markdown",
   "metadata": {
    "slideshow": {
     "slide_type": "slide"
    }
   },
   "source": [
    "### 行动\n",
    "\n",
    "- 建立最小测试-反馈环境\n",
    "- 使用工具前先熟悉环境，比如 ipython 快捷键，编辑器 sublime的功能\n",
    "- 拆解问题，从基本功能再拓展（mvp）\n",
    "- 建立PDCA循环，用写作积累改变\n",
    "- 学习其他人的代码，模仿与比较最有效\n"
   ]
  },
  {
   "cell_type": "code",
   "execution_count": 93,
   "metadata": {
    "slideshow": {
     "slide_type": "slide"
    }
   },
   "outputs": [
    {
     "data": {
      "text/plain": [
       "{2,\n",
       " 3,\n",
       " 5,\n",
       " 7,\n",
       " 11,\n",
       " 13,\n",
       " 17,\n",
       " 19,\n",
       " 23,\n",
       " 29,\n",
       " 31,\n",
       " 37,\n",
       " 41,\n",
       " 43,\n",
       " 47,\n",
       " 53,\n",
       " 59,\n",
       " 61,\n",
       " 67,\n",
       " 71,\n",
       " 73,\n",
       " 79,\n",
       " 83,\n",
       " 89,\n",
       " 97}"
      ]
     },
     "execution_count": 93,
     "metadata": {},
     "output_type": "execute_result"
    }
   ],
   "source": [
    "# 求2-100间的素数的列表\n",
    "# 素数，指在大於1的自然数中，除了1和該数自身外，無法被其他自然数整除的数\n",
    "\n",
    "# 0-100间的数，判断是否是素数，放入一个容器\n",
    "\n",
    "\n",
    "'''\n",
    "prime_number = []\n",
    "for i in range(2, 101):\n",
    "    fg = 0\n",
    "    for l in range(2, i):\n",
    "        if i % l == 0:\n",
    "            fg = 1\n",
    "            break\n",
    "        if fg == 0:\n",
    "            prime_number.append(i)\n",
    "'''\n",
    "\n",
    "\n",
    "\n",
    "'''\n",
    "prime_number = []\n",
    "\n",
    "for x in range(2,101):\n",
    "    for i in range(2,x):\n",
    "        if x % i == 0:\n",
    "            break\n",
    "    else:\n",
    "        prime_number.append(x)\n",
    "            \n",
    "# prime_number\n",
    "'''\n",
    "\n",
    "# [i for i in range(10) if i > 3]\n",
    "\n",
    "\n",
    "# 列表推导式\n",
    "# [x for x in range(2,101) if 0 not in [x%i for i in range(2,x) ] ]\n",
    "\n",
    "\n",
    "\n",
    "# print ' '.join([str(s) for s in [x for x in range(2,101) if not [y for y in range(2,x) if x % y == 0]]])\n",
    "\n",
    "# different elements google \n",
    "'''\n",
    "A = set (range(2, 101))\n",
    "B = set()\n",
    "\n",
    "for x in range(2, 101):\n",
    "    for i in range(2, x):\n",
    "        if x % i == 0:\n",
    "            B.add(x)\n",
    "\n",
    "A - B\n",
    "'''"
   ]
  }
 ],
 "metadata": {
  "celltoolbar": "Slideshow",
  "kernelspec": {
   "display_name": "Python 2",
   "language": "python",
   "name": "python2"
  },
  "language_info": {
   "codemirror_mode": {
    "name": "ipython",
    "version": 2
   },
   "file_extension": ".py",
   "mimetype": "text/x-python",
   "name": "python",
   "nbconvert_exporter": "python",
   "pygments_lexer": "ipython2",
   "version": "2.7.13"
  }
 },
 "nbformat": 4,
 "nbformat_minor": 2
}
